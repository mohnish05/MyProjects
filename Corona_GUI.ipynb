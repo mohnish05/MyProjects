{
 "cells": [
  {
   "cell_type": "code",
   "execution_count": 2,
   "metadata": {},
   "outputs": [],
   "source": [
    "import tkinter\n",
    "from tkinter import *\n",
    "from pandastable import Table, TableModel\n",
    "import requests\n",
    "import json\n",
    "import pandas as pd\n",
    "\n",
    "# POST to API\n",
    "payload = {'country': 'India'} # or {'code': 'IN'}\n",
    "URL = 'https://api.statworx.com/covid'\n",
    "response = requests.post(url=URL, data=json.dumps(payload))\n",
    "\n",
    "# Convert to data frame\n",
    "df = pd.DataFrame.from_dict(json.loads(response.text))\n",
    "\n",
    "class corona(Frame):\n",
    "    \"\"\"Corona Update\"\"\"\n",
    "    def __init__(self, parent=None):\n",
    "        self.parent = parent\n",
    "        Frame.__init__(self)\n",
    "        self.main = self.master\n",
    "        self.main.geometry('600x400+200+100')\n",
    "        self.main.title('Corona Update')\n",
    "        f = Frame(self.main)\n",
    "        f.pack(fill=BOTH,expand=1)\n",
    "        df = pd.DataFrame.from_dict(json.loads(response.text))\n",
    "        self.table = pt = Table(f, dataframe=df.tail(),\n",
    "                                showtoolbar=True, showstatusbar=True)\n",
    "        pt.show()\n",
    "        return\n",
    "window = tkinter.Tk()\n",
    "tkinter.Button(window, text = \" Want corona update? Click Me!\", command = corona).pack()\n",
    "app = corona()\n",
    "#launch the app\n",
    "app.mainloop()"
   ]
  },
  {
   "cell_type": "code",
   "execution_count": null,
   "metadata": {},
   "outputs": [],
   "source": []
  },
  {
   "cell_type": "code",
   "execution_count": null,
   "metadata": {},
   "outputs": [],
   "source": []
  }
 ],
 "metadata": {
  "kernelspec": {
   "display_name": "Python 3",
   "language": "python",
   "name": "python3"
  },
  "language_info": {
   "codemirror_mode": {
    "name": "ipython",
    "version": 3
   },
   "file_extension": ".py",
   "mimetype": "text/x-python",
   "name": "python",
   "nbconvert_exporter": "python",
   "pygments_lexer": "ipython3",
   "version": "3.7.3"
  }
 },
 "nbformat": 4,
 "nbformat_minor": 2
}
